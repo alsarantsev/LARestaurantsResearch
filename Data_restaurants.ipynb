{
 "cells": [
  {
   "cell_type": "markdown",
   "metadata": {},
   "source": [
    "<div class=\"alert alert-block alert-success\">\n",
    "<b>Reviewer's comment 2</b> <a class=\"tocSkip\"></a>\n",
    "\n",
    "Hi again, Alexandr! Thank you for the fix, everything is fine now! Good luck in the next project :)\n",
    "</div>"
   ]
  },
  {
   "cell_type": "markdown",
   "metadata": {},
   "source": [
    "Hello, Alexandr! My name is Andrey Isupov. I checked your project. You did a very good job. But there is one more thing that needs fix. I think it is not so difficult for you and you will quickly cope with it. Good luck :)\n",
    "\n",
    "Below you will find my comments - **please do not move, modify or delete them**.\n",
    "\n",
    "You can find my comments in green, yellow or red boxes like this:\n",
    "\n",
    "<div class=\"alert alert-block alert-success\">\n",
    "<b>Reviewer's comment</b> <a class=\"tocSkip\"></a>\n",
    "\n",
    "Success. Everything is done succesfully.\n",
    "</div>\n",
    "\n",
    "<div class=\"alert alert-block alert-warning\">\n",
    "<b>Reviewer's comment</b> <a class=\"tocSkip\"></a>\n",
    "\n",
    "Remarks. Some recommendations.\n",
    "</div>\n",
    "\n",
    "<div class=\"alert alert-block alert-danger\">\n",
    "\n",
    "<b>Reviewer's comment</b> <a class=\"tocSkip\"></a>\n",
    "\n",
    "Needs fixing. The block requires some corrections. Work can't be accepted with the red comments.\n",
    "</div>\n",
    "\n",
    "You can answer me by using this:\n",
    "\n",
    "<div class=\"alert alert-block alert-info\">\n",
    "<b>Student answer.</b> <a class=\"tocSkip\"></a>\n",
    "\n",
    "Sample text\n",
    "</div>"
   ]
  },
  {
   "cell_type": "code",
   "execution_count": 2,
   "metadata": {},
   "outputs": [
    {
     "name": "stdout",
     "output_type": "stream",
     "text": [
      "Requirement already satisfied: altair in c:\\users\\dell\\miniconda3\\lib\\site-packages (4.2.0)\n",
      "Requirement already satisfied: toolz in c:\\users\\dell\\miniconda3\\lib\\site-packages (from altair) (0.11.2)\n",
      "Requirement already satisfied: jinja2 in c:\\users\\dell\\miniconda3\\lib\\site-packages (from altair) (3.0.2)\n",
      "Requirement already satisfied: numpy in c:\\users\\dell\\miniconda3\\lib\\site-packages (from altair) (1.21.4)\n",
      "Requirement already satisfied: entrypoints in c:\\users\\dell\\miniconda3\\lib\\site-packages (from altair) (0.3)\n",
      "Requirement already satisfied: pandas>=0.18 in c:\\users\\dell\\miniconda3\\lib\\site-packages (from altair) (1.3.4)\n",
      "Requirement already satisfied: jsonschema>=3.0 in c:\\users\\dell\\miniconda3\\lib\\site-packages (from altair) (3.2.0)\n",
      "Requirement already satisfied: attrs>=17.4.0 in c:\\users\\dell\\miniconda3\\lib\\site-packages (from jsonschema>=3.0->altair) (21.2.0)\n",
      "Requirement already satisfied: six>=1.11.0 in c:\\users\\dell\\miniconda3\\lib\\site-packages (from jsonschema>=3.0->altair) (1.16.0)\n",
      "Requirement already satisfied: setuptools in c:\\users\\dell\\miniconda3\\lib\\site-packages (from jsonschema>=3.0->altair) (52.0.0.post20210125)\n",
      "Requirement already satisfied: importlib-metadata in c:\\users\\dell\\miniconda3\\lib\\site-packages (from jsonschema>=3.0->altair) (4.8.1)\n",
      "Requirement already satisfied: pyrsistent>=0.14.0 in c:\\users\\dell\\miniconda3\\lib\\site-packages (from jsonschema>=3.0->altair) (0.18.0)\n",
      "Requirement already satisfied: pytz>=2017.3 in c:\\users\\dell\\miniconda3\\lib\\site-packages (from pandas>=0.18->altair) (2021.3)\n",
      "Requirement already satisfied: python-dateutil>=2.7.3 in c:\\users\\dell\\miniconda3\\lib\\site-packages (from pandas>=0.18->altair) (2.8.2)\n",
      "Requirement already satisfied: zipp>=0.5 in c:\\users\\dell\\miniconda3\\lib\\site-packages (from importlib-metadata->jsonschema>=3.0->altair) (3.6.0)\n",
      "Requirement already satisfied: typing-extensions>=3.6.4 in c:\\users\\dell\\miniconda3\\lib\\site-packages (from importlib-metadata->jsonschema>=3.0->altair) (3.10.0.2)\n",
      "Requirement already satisfied: MarkupSafe>=2.0 in c:\\users\\dell\\miniconda3\\lib\\site-packages (from jinja2->altair) (2.0.1)\n"
     ]
    }
   ],
   "source": [
    "!pip install altair -U"
   ]
  },
  {
   "cell_type": "markdown",
   "metadata": {},
   "source": [
    "<div class=\"alert alert-block alert-success\">\n",
    "<b>Reviewer's comment</b> <a class=\"tocSkip\"></a>\n",
    "\n",
    "Now our libraries exactly match\n",
    "</div>"
   ]
  },
  {
   "cell_type": "markdown",
   "metadata": {},
   "source": [
    "# Project description\n",
    "We’ve decided to open a small robot-run cafe in Los Angeles. The project is promising but expensive, so we with partners decide to try to attract investors. They’re interested in the current market conditions—will we be able to maintain our success when the novelty of robot waiters wears off?   \n",
    "\n",
    "At that point the partners have asked to prepare some market research. We'll use open-source data on restaurants in LA.   \n",
    "\n",
    "We'll make 3 steps in general:   \n",
    "1. Open the data   \n",
    "2. Make analysis   \n",
    "3. Prepare the presentation of research and we'll share it in the pdf file. "
   ]
  },
  {
   "cell_type": "markdown",
   "metadata": {},
   "source": [
    "<div class=\"alert alert-block alert-success\">\n",
    "<b>Reviewer's comment</b> <a class=\"tocSkip\"></a>\n",
    "\n",
    "Thank you for the description\n",
    "</div>"
   ]
  },
  {
   "cell_type": "code",
   "execution_count": 3,
   "metadata": {},
   "outputs": [
    {
     "ename": "ModuleNotFoundError",
     "evalue": "No module named 'matplotlib'",
     "output_type": "error",
     "traceback": [
      "\u001b[1;31m---------------------------------------------------------------------------\u001b[0m",
      "\u001b[1;31mModuleNotFoundError\u001b[0m                       Traceback (most recent call last)",
      "\u001b[1;32m~\\AppData\\Local\\Temp/ipykernel_24168/48433240.py\u001b[0m in \u001b[0;36m<module>\u001b[1;34m\u001b[0m\n\u001b[0;32m      1\u001b[0m \u001b[1;32mimport\u001b[0m \u001b[0mpandas\u001b[0m \u001b[1;32mas\u001b[0m \u001b[0mpd\u001b[0m\u001b[1;33m\u001b[0m\u001b[1;33m\u001b[0m\u001b[0m\n\u001b[1;32m----> 2\u001b[1;33m \u001b[1;32mimport\u001b[0m \u001b[0mmatplotlib\u001b[0m \u001b[1;32mas\u001b[0m \u001b[0mplt\u001b[0m\u001b[1;33m\u001b[0m\u001b[1;33m\u001b[0m\u001b[0m\n\u001b[0m\u001b[0;32m      3\u001b[0m \u001b[1;32mfrom\u001b[0m \u001b[0mplotly\u001b[0m \u001b[1;32mimport\u001b[0m \u001b[0mgraph_objects\u001b[0m \u001b[1;32mas\u001b[0m \u001b[0mgo\u001b[0m\u001b[1;33m\u001b[0m\u001b[1;33m\u001b[0m\u001b[0m\n\u001b[0;32m      4\u001b[0m \u001b[1;32mimport\u001b[0m \u001b[0mplotly\u001b[0m\u001b[1;33m.\u001b[0m\u001b[0mexpress\u001b[0m \u001b[1;32mas\u001b[0m \u001b[0mpx\u001b[0m\u001b[1;33m\u001b[0m\u001b[1;33m\u001b[0m\u001b[0m\n\u001b[0;32m      5\u001b[0m \u001b[1;32mimport\u001b[0m \u001b[0maltair\u001b[0m \u001b[1;32mas\u001b[0m \u001b[0malt\u001b[0m\u001b[1;33m\u001b[0m\u001b[1;33m\u001b[0m\u001b[0m\n",
      "\u001b[1;31mModuleNotFoundError\u001b[0m: No module named 'matplotlib'"
     ]
    }
   ],
   "source": [
    "import pandas as pd\n",
    "import matplotlib as plt \n",
    "from plotly import graph_objects as go \n",
    "import plotly.express as px\n",
    "import altair as alt"
   ]
  },
  {
   "cell_type": "markdown",
   "metadata": {},
   "source": [
    "### Ok, let's take a look on data"
   ]
  },
  {
   "cell_type": "code",
   "execution_count": null,
   "metadata": {},
   "outputs": [],
   "source": [
    "try:\n",
    "    data = pd.read_csv('/datasets/rest_data_us.csv')\n",
    "except:\n",
    "    print(\"Somthing wrong\")"
   ]
  },
  {
   "cell_type": "code",
   "execution_count": null,
   "metadata": {},
   "outputs": [],
   "source": [
    "data.head()"
   ]
  },
  {
   "cell_type": "code",
   "execution_count": null,
   "metadata": {},
   "outputs": [],
   "source": [
    "data.info()"
   ]
  },
  {
   "cell_type": "markdown",
   "metadata": {},
   "source": [
    "We have small amount of missing values in \"chain\" column, but let's leave everything as it is. "
   ]
  },
  {
   "cell_type": "markdown",
   "metadata": {},
   "source": [
    "<div class=\"alert alert-block alert-success\">\n",
    "<b>Reviewer's comment</b> <a class=\"tocSkip\"></a>\n",
    "\n",
    "Very good data review! Nice that you wrote a conclusion abo\n",
    "</div>"
   ]
  },
  {
   "cell_type": "markdown",
   "metadata": {},
   "source": [
    "### Let's make analysis"
   ]
  },
  {
   "cell_type": "markdown",
   "metadata": {},
   "source": [
    "#### Investigate the proportions of the various types of establishments. Plot a graph."
   ]
  },
  {
   "cell_type": "code",
   "execution_count": null,
   "metadata": {},
   "outputs": [],
   "source": [
    "establishments_group = data.groupby('object_type')['id'].nunique().reset_index()\n",
    "establishments_group"
   ]
  },
  {
   "cell_type": "code",
   "execution_count": null,
   "metadata": {},
   "outputs": [],
   "source": [
    "fig = px.bar(establishments_group, x='object_type', y='id', title='Distribution by establishments', labels = {\n",
    "    'object_type': 'Type of establishment', 'id': 'Number of establishments'})\n",
    "fig.show()"
   ]
  },
  {
   "cell_type": "code",
   "execution_count": null,
   "metadata": {},
   "outputs": [],
   "source": [
    "fig2 = go.Figure(go.Pie(values=establishments_group['id'], labels=establishments_group['object_type']))\n",
    "fig2.update_layout(title = 'Proportions of the various types of establishments')\n",
    "fig2.show()"
   ]
  },
  {
   "cell_type": "markdown",
   "metadata": {},
   "source": [
    "**Conclusion:**\n",
    "\n",
    "So, we see that the restaurants - it's major part of establishments in our list. Their share is more than 75% or 7255 establishments. The second one - it's fast food with 11% of share or 1066 establishments. "
   ]
  },
  {
   "cell_type": "markdown",
   "metadata": {},
   "source": [
    "<div class=\"alert alert-block alert-success\">\n",
    "<b>Reviewer's comment</b> <a class=\"tocSkip\"></a>\n",
    "\n",
    "Very beautiful graphs, I like that you wrote a conclusion for each step👍\n",
    "</div>"
   ]
  },
  {
   "cell_type": "markdown",
   "metadata": {},
   "source": [
    "#### Investigate the proportions of chain and nonchain establishments. Plot a graph."
   ]
  },
  {
   "cell_type": "code",
   "execution_count": null,
   "metadata": {},
   "outputs": [],
   "source": [
    "chain_group = data.groupby('chain')['id'].nunique().reset_index()\n",
    "chain_group['chain']=chain_group['chain'].apply(lambda x: 'Yes' if x==True else 'No')\n",
    "chain_group"
   ]
  },
  {
   "cell_type": "code",
   "execution_count": null,
   "metadata": {},
   "outputs": [],
   "source": [
    "fig3 = px.bar(chain_group, x='chain', y='id', title='Distribution by chain', labels = {\n",
    "    'chain': 'Is it chain (Yes/No)',\n",
    "    'id': 'Number of establishments'})\n",
    "fig3.show()"
   ]
  },
  {
   "cell_type": "markdown",
   "metadata": {},
   "source": [
    "**Conclusion:**   \n",
    "\n",
    "As we can see, most establishments are not chains"
   ]
  },
  {
   "cell_type": "markdown",
   "metadata": {},
   "source": [
    "<div class=\"alert alert-block alert-success\">\n",
    "<b>Reviewer's comment</b> <a class=\"tocSkip\"></a>\n",
    "\n",
    "Good\n",
    "</div>"
   ]
  },
  {
   "cell_type": "markdown",
   "metadata": {},
   "source": [
    "#### Which type of establishment is typically a chain?"
   ]
  },
  {
   "cell_type": "code",
   "execution_count": null,
   "metadata": {},
   "outputs": [],
   "source": [
    "chain_est = data.groupby(['chain', 'object_type'])['id'].nunique().reset_index()\n",
    "chain_est['chain'] = chain_est['chain'].apply(lambda x: 'Yes' if x == True else 'No')\n",
    "chain_est"
   ]
  },
  {
   "cell_type": "code",
   "execution_count": null,
   "metadata": {},
   "outputs": [],
   "source": [
    "fig4 = px.bar(chain_est, x='object_type', y='id', color = 'chain', title='Distributions of establishments by chain',\n",
    "             labels={'object_type': 'Type of establishment', 'id': 'Number of establishments'})\n",
    "fig4.update_layout(barmode = 'group')\n",
    "fig4.show()"
   ]
  },
  {
   "cell_type": "markdown",
   "metadata": {},
   "source": [
    "**Conclusion:**   \n",
    "\n",
    "As we can note cafes, fast food establishments, bakeries, as a rule, are network establishments: in these cases, the share of chain establishments is greater than that of non-chain establishments. Pizzerias have almost the same share as chain and non-chain establishments. Most likely due to the complexity of the product - creating and maintaining a large number of restaurants at a high level is more difficult than a less complex product."
   ]
  },
  {
   "cell_type": "markdown",
   "metadata": {},
   "source": [
    "<div class=\"alert alert-block alert-success\">\n",
    "<b>Reviewer's comment</b> <a class=\"tocSkip\"></a>\n",
    "\n",
    "Yes, you are right!\n",
    "</div>"
   ]
  },
  {
   "cell_type": "markdown",
   "metadata": {},
   "source": [
    "#### What characterizes chains: many establishments with a small number of seats or a few establishments with a lot of seats?"
   ]
  },
  {
   "cell_type": "code",
   "execution_count": null,
   "metadata": {},
   "outputs": [],
   "source": [
    "seatsInChain = data[data['chain'] == True].groupby('object_name')['number'].agg(['count', 'median']).reset_index()\n",
    "seatsInChain.columns = ['name', 'number', 'average_seating']\n",
    "seatsInChain"
   ]
  },
  {
   "cell_type": "code",
   "execution_count": null,
   "metadata": {
    "scrolled": false
   },
   "outputs": [],
   "source": [
    "fig5 = alt.Chart(seatsInChain).mark_circle(size = 60).encode(\n",
    "    alt.X('average_seating', title = 'Average number of seatings'), \n",
    "    alt.Y('number', title ='Number of establishments in chain'),\n",
    "    tooltip=['name', 'average_seating', 'number']).properties(width = 600, height = 400).interactive()\n",
    "fig5"
   ]
  },
  {
   "cell_type": "markdown",
   "metadata": {},
   "source": [
    "**Conclusion:**    \n",
    "\n",
    "So, there are no obvious patterns for chains, the data varied a lot. We can just mention that the major part of chains has 2 establishments with an average number of seats between 10 and 30. The world-famous chains such as KFC, Domino's pizza, Papa Johns, Starbucks have from 10 to 15 establishments with from 10 to 20 average numbers of seats.   "
   ]
  },
  {
   "cell_type": "markdown",
   "metadata": {},
   "source": [
    "<div class=\"alert alert-block alert-success\">\n",
    "<b>Reviewer's comment</b> <a class=\"tocSkip\"></a>\n",
    "\n",
    "Right again\n",
    "</div>"
   ]
  },
  {
   "cell_type": "markdown",
   "metadata": {},
   "source": [
    "#### Determine the average number of seats for each type of restaurant. On average, which type of restaurant has the greatest number of seats? Plot graphs"
   ]
  },
  {
   "cell_type": "code",
   "execution_count": null,
   "metadata": {},
   "outputs": [],
   "source": [
    "seating_group = data.groupby('object_type')['number'].median().reset_index()\n",
    "seating_group"
   ]
  },
  {
   "cell_type": "code",
   "execution_count": null,
   "metadata": {},
   "outputs": [],
   "source": [
    "fig6 = px.bar(seating_group, y='number', x='object_type', \n",
    "              title=\"Average number of seats\", \n",
    "              labels = {'object_type': 'Type of establishment', 'number': 'Number of seats'})\n",
    "fig6.show()"
   ]
  },
  {
   "cell_type": "markdown",
   "metadata": {},
   "source": [
    "**Conclusion:**    \n",
    "\n",
    "It appears that places distributed in pairs: restaurants and bars have almost the same number of seats on average - 29. The two next numbers - 21, both for cafes and fast-food establishments. And the last one pair - bakery and pizzerias, each with 18 seats on average"
   ]
  },
  {
   "cell_type": "markdown",
   "metadata": {},
   "source": [
    "<div class=\"alert alert-block alert-success\">\n",
    "<b>Reviewer's comment</b> <a class=\"tocSkip\"></a>\n",
    "\n",
    "Yep, perfect work!\n",
    "</div>"
   ]
  },
  {
   "cell_type": "markdown",
   "metadata": {},
   "source": [
    "#### Put the data on street names from the address column in a separate column."
   ]
  },
  {
   "cell_type": "code",
   "execution_count": null,
   "metadata": {},
   "outputs": [],
   "source": [
    "data['name_street'] = data['address'].apply(lambda x: x.split(\" \"))\n",
    "data['name_street'] = data['name_street'].apply(lambda x: x[1:])\n",
    "data['name_street'] = data['name_street'].apply(lambda x: \" \".join(x))\n",
    "data"
   ]
  },
  {
   "cell_type": "markdown",
   "metadata": {},
   "source": [
    "#### Plot a graph of the top ten streets by number of restaurants."
   ]
  },
  {
   "cell_type": "code",
   "execution_count": null,
   "metadata": {},
   "outputs": [],
   "source": [
    "top10_streets = (data.groupby('name_street')['object_type']\n",
    "                 .agg('count').reset_index()\n",
    "                 .sort_values(by = 'object_type', ascending= False).head(10))\n",
    "top10_streets"
   ]
  },
  {
   "cell_type": "code",
   "execution_count": null,
   "metadata": {},
   "outputs": [],
   "source": [
    "fig7 = px.bar(top10_streets, x = 'name_street', \n",
    "              y = 'object_type', labels = {'name_street': 'Name of street', 'object_type': 'Number of restaurants'},\n",
    "             title = 'Top 10 streets by number of restaurants')\n",
    "fig7.show()"
   ]
  },
  {
   "cell_type": "markdown",
   "metadata": {},
   "source": [
    "**Conclusion:**   \n",
    "\n",
    "It's not surprising that the two most length streets became the leaders - boulevards Sunset and Pico with 296 and 288 restaurants respectively. The next eight streets contain from 128 to 167 restaurants on street. "
   ]
  },
  {
   "cell_type": "markdown",
   "metadata": {},
   "source": [
    "<div class=\"alert alert-block alert-success\">\n",
    "<b>Reviewer's comment</b> <a class=\"tocSkip\"></a>\n",
    "\n",
    "Awesome!\n",
    "</div>"
   ]
  },
  {
   "cell_type": "markdown",
   "metadata": {},
   "source": [
    "#### Find the number of streets that only have one restaurant."
   ]
  },
  {
   "cell_type": "code",
   "execution_count": null,
   "metadata": {},
   "outputs": [],
   "source": [
    "only1_streets = (data.groupby('name_street')['object_name']\n",
    "                 .agg('count').reset_index())\n",
    "len(only1_streets.query(\"object_name == 1\"))"
   ]
  },
  {
   "cell_type": "markdown",
   "metadata": {},
   "source": [
    "#### For streets with a lot of restaurants, look at the distribution of the number of seats. What trends can you see?"
   ]
  },
  {
   "cell_type": "code",
   "execution_count": null,
   "metadata": {},
   "outputs": [],
   "source": [
    "top10_dist = (data.groupby('name_street')['number'].agg(['count', 'median']).reset_index()\n",
    "             .sort_values(by = 'count', ascending= False).head(10))\n",
    "top10_dist.columns = ['name_street', 'number_restaurants', 'average_seats']\n",
    "top10_dist"
   ]
  },
  {
   "cell_type": "code",
   "execution_count": null,
   "metadata": {},
   "outputs": [],
   "source": [
    "fig8 = alt.Chart(top10_dist).mark_circle(size = 60).encode(\n",
    "    alt.X('average_seats', title = 'Average number of seatings'), \n",
    "    alt.Y('number_restaurants', title ='Number of restaurants on the street'),\n",
    "    tooltip=['name_street', 'average_seats', 'number_restaurants']).interactive()\n",
    "fig8"
   ]
  },
  {
   "cell_type": "markdown",
   "metadata": {},
   "source": [
    "**Conclusion:**   \n",
    "\n",
    "We can't highlight how tend the streets with different number of restaurants. Even if we exclude \"outliers\", all streets have almost the same picture - on average the number of seats varies from 24 to 40, but never mind does the street has more restaurants or fewer. "
   ]
  },
  {
   "cell_type": "markdown",
   "metadata": {},
   "source": [
    "<div class=\"alert alert-block alert-success\">\n",
    "<b>Reviewer's comment</b> <a class=\"tocSkip\"></a>\n",
    "\n",
    "You are right\n",
    "</div>"
   ]
  },
  {
   "cell_type": "markdown",
   "metadata": {},
   "source": [
    "**Overall conclusion:**    \n",
    "\n",
    "It seems that the most competitive type is restaurants - they take the major share in the list of establishments. It might be a little bit difficult to keep results in terms of sales at a high level across a long period with so untypical a direction. So, probably, the most suitable option might be a cafe or fast-food establishment. As we mentioned earlier, for this type of restaurant the most frequent number of seats falls between 20 - 25 seats. Where open? Hard to say, there may be so expensive pay rent payments if cafe will open on one of the two main \"restaurant streets\". We may consider opening 2 cafes in less competitive streets.  "
   ]
  },
  {
   "cell_type": "markdown",
   "metadata": {},
   "source": [
    "<div class=\"alert alert-block alert-success\">\n",
    "<b>Reviewer's comment</b> <a class=\"tocSkip\"></a>\n",
    "\n",
    "Very informative general conclusion, thank you!\n",
    "</div>"
   ]
  },
  {
   "cell_type": "markdown",
   "metadata": {},
   "source": [
    "Presentation: <https://drive.google.com/file/d/1nV5LM5hGHX6mGzPQ5hak3Jn8XdgPnjLa/view?usp=sharing> "
   ]
  },
  {
   "cell_type": "markdown",
   "metadata": {},
   "source": [
    "<div class=\"alert alert-block alert-danger\">\n",
    "<b>Reviewer's comment</b> <a class=\"tocSkip\"></a>\n",
    "\n",
    "I can't get an access to your presentation, please make it public :(\n",
    "</div>"
   ]
  },
  {
   "cell_type": "markdown",
   "metadata": {},
   "source": [
    "<div class=\"alert alert-block alert-success\">\n",
    "<b>Reviewer's comment 2</b> <a class=\"tocSkip\"></a>\n",
    "\n",
    "All right now! You made very cool presentation, I like that you add conclusion on the last page. Perfect work!\n",
    "</div>"
   ]
  },
  {
   "cell_type": "markdown",
   "metadata": {},
   "source": [
    "**After reviewer's comment:**   \n",
    "\n",
    "I'm so sorry, I though, that I've already done it. Could you try again? "
   ]
  },
  {
   "cell_type": "markdown",
   "metadata": {},
   "source": [
    "<div class=\"alert alert-block alert-success\">\n",
    "<b>Reviewer's conclusion</b> <a class=\"tocSkip\"></a>\n",
    "\n",
    "Alexandr, thank you for your project! You did really good job. I see that you have great knowledge in the analysis and visualization. But make your presentation link public, please. I will be waiting for your project😊\n",
    "</div> "
   ]
  },
  {
   "cell_type": "code",
   "execution_count": null,
   "metadata": {},
   "outputs": [],
   "source": []
  }
 ],
 "metadata": {
  "ExecuteTimeLog": [
   {
    "duration": 514,
    "start_time": "2022-04-16T13:18:39.439Z"
   },
   {
    "duration": 51,
    "start_time": "2022-04-16T13:19:47.128Z"
   },
   {
    "duration": 19,
    "start_time": "2022-04-16T13:20:20.644Z"
   },
   {
    "duration": 142,
    "start_time": "2022-04-16T16:40:21.043Z"
   },
   {
    "duration": 137,
    "start_time": "2022-04-16T16:40:30.873Z"
   },
   {
    "duration": 33,
    "start_time": "2022-04-16T16:40:32.926Z"
   },
   {
    "duration": 12,
    "start_time": "2022-04-16T16:40:34.330Z"
   },
   {
    "duration": 6,
    "start_time": "2022-04-16T16:46:51.334Z"
   },
   {
    "duration": 10,
    "start_time": "2022-04-16T16:46:56.812Z"
   },
   {
    "duration": 69,
    "start_time": "2022-04-16T16:47:37.424Z"
   },
   {
    "duration": 45,
    "start_time": "2022-04-16T16:50:41.347Z"
   },
   {
    "duration": 47,
    "start_time": "2022-04-16T16:51:49.771Z"
   },
   {
    "duration": 43,
    "start_time": "2022-04-16T16:53:48.705Z"
   },
   {
    "duration": 56,
    "start_time": "2022-04-16T17:05:07.481Z"
   },
   {
    "duration": 9,
    "start_time": "2022-04-16T17:05:26.290Z"
   },
   {
    "duration": 9,
    "start_time": "2022-04-16T17:06:10.733Z"
   },
   {
    "duration": 11,
    "start_time": "2022-04-16T17:09:39.917Z"
   },
   {
    "duration": 9,
    "start_time": "2022-04-16T17:10:02.213Z"
   },
   {
    "duration": 10,
    "start_time": "2022-04-16T17:11:02.172Z"
   },
   {
    "duration": 3,
    "start_time": "2022-04-16T17:13:31.179Z"
   },
   {
    "duration": 29,
    "start_time": "2022-04-16T17:13:32.298Z"
   },
   {
    "duration": 12,
    "start_time": "2022-04-16T17:13:34.197Z"
   },
   {
    "duration": 8,
    "start_time": "2022-04-16T17:13:42.714Z"
   },
   {
    "duration": 134,
    "start_time": "2022-04-16T17:13:50.231Z"
   },
   {
    "duration": 46,
    "start_time": "2022-04-16T17:16:13.921Z"
   },
   {
    "duration": 46,
    "start_time": "2022-04-16T17:16:47.270Z"
   },
   {
    "duration": 3,
    "start_time": "2022-04-16T17:48:15.359Z"
   },
   {
    "duration": 30,
    "start_time": "2022-04-16T17:48:16.646Z"
   },
   {
    "duration": 12,
    "start_time": "2022-04-16T17:48:18.710Z"
   },
   {
    "duration": 10,
    "start_time": "2022-04-16T17:48:20.131Z"
   },
   {
    "duration": 44,
    "start_time": "2022-04-16T17:48:21.769Z"
   },
   {
    "duration": 3,
    "start_time": "2022-04-16T17:49:28.666Z"
   },
   {
    "duration": 8225,
    "start_time": "2022-04-16T17:51:20.914Z"
   },
   {
    "duration": 4,
    "start_time": "2022-04-16T17:51:42.484Z"
   },
   {
    "duration": 36,
    "start_time": "2022-04-16T17:51:44.135Z"
   },
   {
    "duration": 10,
    "start_time": "2022-04-16T17:51:49.040Z"
   },
   {
    "duration": 48,
    "start_time": "2022-04-16T17:51:50.063Z"
   },
   {
    "duration": 59,
    "start_time": "2022-04-16T17:54:13.927Z"
   },
   {
    "duration": 148,
    "start_time": "2022-04-16T17:54:25.648Z"
   },
   {
    "duration": 6537,
    "start_time": "2022-04-16T17:58:01.008Z"
   },
   {
    "duration": 3,
    "start_time": "2022-04-16T17:58:09.171Z"
   },
   {
    "duration": 37,
    "start_time": "2022-04-16T17:58:10.981Z"
   },
   {
    "duration": 15,
    "start_time": "2022-04-16T17:58:12.371Z"
   },
   {
    "duration": 11,
    "start_time": "2022-04-16T17:58:13.014Z"
   },
   {
    "duration": 52,
    "start_time": "2022-04-16T17:58:13.938Z"
   },
   {
    "duration": 37,
    "start_time": "2022-04-16T17:58:17.406Z"
   },
   {
    "duration": 147,
    "start_time": "2022-04-16T18:04:16.342Z"
   },
   {
    "duration": 141,
    "start_time": "2022-04-16T18:04:24.747Z"
   },
   {
    "duration": 20,
    "start_time": "2022-04-16T18:04:40.062Z"
   },
   {
    "duration": 13,
    "start_time": "2022-04-16T18:05:15.523Z"
   },
   {
    "duration": 10,
    "start_time": "2022-04-16T18:05:42.957Z"
   },
   {
    "duration": 655,
    "start_time": "2022-04-16T18:18:09.365Z"
   },
   {
    "duration": 41,
    "start_time": "2022-04-16T18:18:10.911Z"
   },
   {
    "duration": 14,
    "start_time": "2022-04-16T18:18:11.988Z"
   },
   {
    "duration": 12,
    "start_time": "2022-04-16T18:18:12.777Z"
   },
   {
    "duration": 407,
    "start_time": "2022-04-16T18:18:13.932Z"
   },
   {
    "duration": 10,
    "start_time": "2022-04-16T18:19:37.050Z"
   },
   {
    "duration": 9,
    "start_time": "2022-04-16T18:26:40.534Z"
   },
   {
    "duration": 32,
    "start_time": "2022-04-16T18:27:59.398Z"
   },
   {
    "duration": 27,
    "start_time": "2022-04-16T18:28:02.693Z"
   },
   {
    "duration": 124,
    "start_time": "2022-04-16T18:50:52.828Z"
   },
   {
    "duration": 11,
    "start_time": "2022-04-16T18:51:07.606Z"
   },
   {
    "duration": 15,
    "start_time": "2022-04-16T18:51:48.672Z"
   },
   {
    "duration": 58,
    "start_time": "2022-04-16T18:52:41.530Z"
   },
   {
    "duration": 21,
    "start_time": "2022-04-16T18:53:57.938Z"
   },
   {
    "duration": 11,
    "start_time": "2022-04-16T18:54:02.161Z"
   },
   {
    "duration": 47,
    "start_time": "2022-04-16T19:12:58.701Z"
   },
   {
    "duration": 9,
    "start_time": "2022-04-16T19:15:43.907Z"
   },
   {
    "duration": 13,
    "start_time": "2022-04-16T19:24:07.103Z"
   },
   {
    "duration": 9,
    "start_time": "2022-04-16T19:25:43.113Z"
   },
   {
    "duration": 11,
    "start_time": "2022-04-19T11:58:43.789Z"
   },
   {
    "duration": 7,
    "start_time": "2022-04-19T12:00:10.047Z"
   },
   {
    "duration": 10,
    "start_time": "2022-04-19T12:00:15.957Z"
   },
   {
    "duration": 13,
    "start_time": "2022-04-19T12:02:26.549Z"
   },
   {
    "duration": 14,
    "start_time": "2022-04-19T12:49:53.017Z"
   },
   {
    "duration": 29,
    "start_time": "2022-04-19T12:53:36.690Z"
   },
   {
    "duration": 17,
    "start_time": "2022-04-19T12:53:54.212Z"
   },
   {
    "duration": 16,
    "start_time": "2022-04-19T12:55:21.995Z"
   },
   {
    "duration": 13,
    "start_time": "2022-04-19T12:55:40.149Z"
   },
   {
    "duration": 21,
    "start_time": "2022-04-19T12:56:09.991Z"
   },
   {
    "duration": 13,
    "start_time": "2022-04-19T13:45:48.481Z"
   },
   {
    "duration": 9,
    "start_time": "2022-04-19T13:48:18.015Z"
   },
   {
    "duration": 17,
    "start_time": "2022-04-19T13:48:24.055Z"
   },
   {
    "duration": 49,
    "start_time": "2022-04-19T13:53:31.760Z"
   },
   {
    "duration": 42,
    "start_time": "2022-04-19T13:55:55.367Z"
   },
   {
    "duration": 129,
    "start_time": "2022-04-19T13:59:55.005Z"
   },
   {
    "duration": 11,
    "start_time": "2022-04-19T14:00:05.495Z"
   },
   {
    "duration": 47,
    "start_time": "2022-04-19T14:00:14.617Z"
   },
   {
    "duration": 44,
    "start_time": "2022-04-19T14:01:41.172Z"
   },
   {
    "duration": 48,
    "start_time": "2022-04-19T14:01:50.083Z"
   },
   {
    "duration": 12,
    "start_time": "2022-04-19T14:03:40.425Z"
   },
   {
    "duration": 47,
    "start_time": "2022-04-19T15:20:06.190Z"
   },
   {
    "duration": 42,
    "start_time": "2022-04-19T15:26:55.743Z"
   },
   {
    "duration": 53,
    "start_time": "2022-04-19T15:27:04.782Z"
   },
   {
    "duration": 19,
    "start_time": "2022-04-19T15:30:13.640Z"
   },
   {
    "duration": 19,
    "start_time": "2022-04-19T15:38:02.075Z"
   },
   {
    "duration": 12,
    "start_time": "2022-04-19T15:44:55.293Z"
   },
   {
    "duration": 13,
    "start_time": "2022-04-19T15:44:59.627Z"
   },
   {
    "duration": 5,
    "start_time": "2022-04-19T15:45:43.296Z"
   },
   {
    "duration": 11,
    "start_time": "2022-04-19T15:46:01.544Z"
   },
   {
    "duration": 19,
    "start_time": "2022-04-19T15:46:22.271Z"
   },
   {
    "duration": 18,
    "start_time": "2022-04-19T15:48:16.445Z"
   },
   {
    "duration": 21,
    "start_time": "2022-04-19T15:48:41.285Z"
   },
   {
    "duration": 15,
    "start_time": "2022-04-19T16:07:44.718Z"
   },
   {
    "duration": 57,
    "start_time": "2022-04-19T17:06:47.571Z"
   },
   {
    "duration": 63,
    "start_time": "2022-04-19T17:15:31.018Z"
   },
   {
    "duration": 3402,
    "start_time": "2022-04-19T17:17:56.912Z"
   },
   {
    "duration": 258,
    "start_time": "2022-04-19T17:18:22.122Z"
   },
   {
    "duration": 35,
    "start_time": "2022-04-19T17:21:27.413Z"
   },
   {
    "duration": 20,
    "start_time": "2022-04-19T17:21:34.786Z"
   },
   {
    "duration": 20,
    "start_time": "2022-04-19T17:21:40.402Z"
   },
   {
    "duration": 64,
    "start_time": "2022-04-19T17:21:46.049Z"
   },
   {
    "duration": 125,
    "start_time": "2022-04-19T17:31:41.662Z"
   },
   {
    "duration": 40,
    "start_time": "2022-04-19T17:31:47.045Z"
   },
   {
    "duration": 10,
    "start_time": "2022-04-19T18:26:10.371Z"
   },
   {
    "duration": 5,
    "start_time": "2022-04-19T18:26:31.261Z"
   },
   {
    "duration": 2594,
    "start_time": "2022-04-20T14:49:45.269Z"
   },
   {
    "duration": 775,
    "start_time": "2022-04-20T14:49:47.866Z"
   },
   {
    "duration": 36,
    "start_time": "2022-04-20T14:49:48.643Z"
   },
   {
    "duration": 15,
    "start_time": "2022-04-20T14:49:48.681Z"
   },
   {
    "duration": 12,
    "start_time": "2022-04-20T14:49:48.698Z"
   },
   {
    "duration": 5,
    "start_time": "2022-04-20T14:49:48.711Z"
   },
   {
    "duration": 12,
    "start_time": "2022-04-20T14:49:48.718Z"
   },
   {
    "duration": 340,
    "start_time": "2022-04-20T14:49:48.731Z"
   },
   {
    "duration": 122,
    "start_time": "2022-04-20T14:49:49.073Z"
   },
   {
    "duration": 10,
    "start_time": "2022-04-20T14:49:49.199Z"
   },
   {
    "duration": 84,
    "start_time": "2022-04-20T14:49:49.211Z"
   },
   {
    "duration": 14,
    "start_time": "2022-04-20T14:49:49.297Z"
   },
   {
    "duration": 76,
    "start_time": "2022-04-20T14:49:49.313Z"
   },
   {
    "duration": 14,
    "start_time": "2022-04-20T14:49:49.390Z"
   },
   {
    "duration": 18,
    "start_time": "2022-04-20T14:49:49.405Z"
   },
   {
    "duration": 71,
    "start_time": "2022-04-20T14:49:49.424Z"
   },
   {
    "duration": 12,
    "start_time": "2022-04-20T15:55:20.447Z"
   },
   {
    "duration": 131,
    "start_time": "2022-04-20T15:58:22.468Z"
   },
   {
    "duration": 53,
    "start_time": "2022-04-20T15:59:25.541Z"
   },
   {
    "duration": 69,
    "start_time": "2022-04-20T16:01:17.632Z"
   },
   {
    "duration": 46,
    "start_time": "2022-04-20T16:03:46.228Z"
   },
   {
    "duration": 46,
    "start_time": "2022-04-20T16:03:52.747Z"
   },
   {
    "duration": 52,
    "start_time": "2022-04-20T16:04:10.744Z"
   },
   {
    "duration": 12,
    "start_time": "2022-04-20T16:08:49.253Z"
   },
   {
    "duration": 5376,
    "start_time": "2022-04-20T16:30:41.638Z"
   },
   {
    "duration": 17,
    "start_time": "2022-04-20T16:41:13.850Z"
   },
   {
    "duration": 3,
    "start_time": "2022-04-20T16:50:22.110Z"
   },
   {
    "duration": 14,
    "start_time": "2022-04-20T16:50:25.704Z"
   },
   {
    "duration": 24,
    "start_time": "2022-04-20T16:52:10.487Z"
   },
   {
    "duration": 625,
    "start_time": "2022-04-20T16:56:20.498Z"
   },
   {
    "duration": 564,
    "start_time": "2022-04-20T16:57:11.660Z"
   },
   {
    "duration": 2214,
    "start_time": "2022-04-20T16:58:00.440Z"
   },
   {
    "duration": 1343,
    "start_time": "2022-04-20T16:58:06.953Z"
   },
   {
    "duration": 1151,
    "start_time": "2022-04-20T16:58:52.467Z"
   },
   {
    "duration": 2436,
    "start_time": "2022-04-20T17:01:04.080Z"
   },
   {
    "duration": 806,
    "start_time": "2022-04-20T17:01:06.519Z"
   },
   {
    "duration": 23,
    "start_time": "2022-04-20T17:01:07.327Z"
   },
   {
    "duration": 15,
    "start_time": "2022-04-20T17:01:07.352Z"
   },
   {
    "duration": 12,
    "start_time": "2022-04-20T17:01:07.369Z"
   },
   {
    "duration": 8,
    "start_time": "2022-04-20T17:01:07.383Z"
   },
   {
    "duration": 12,
    "start_time": "2022-04-20T17:01:07.393Z"
   },
   {
    "duration": 329,
    "start_time": "2022-04-20T17:01:07.407Z"
   },
   {
    "duration": 134,
    "start_time": "2022-04-20T17:01:07.737Z"
   },
   {
    "duration": 11,
    "start_time": "2022-04-20T17:01:07.873Z"
   },
   {
    "duration": 68,
    "start_time": "2022-04-20T17:01:07.886Z"
   },
   {
    "duration": 15,
    "start_time": "2022-04-20T17:01:07.956Z"
   },
   {
    "duration": 53,
    "start_time": "2022-04-20T17:01:07.972Z"
   },
   {
    "duration": 39,
    "start_time": "2022-04-20T17:01:08.026Z"
   },
   {
    "duration": 19,
    "start_time": "2022-04-20T17:01:08.067Z"
   },
   {
    "duration": 49,
    "start_time": "2022-04-20T17:01:08.087Z"
   },
   {
    "duration": 28,
    "start_time": "2022-04-20T17:01:08.137Z"
   },
   {
    "duration": 43,
    "start_time": "2022-04-20T17:01:08.166Z"
   },
   {
    "duration": 15,
    "start_time": "2022-04-20T17:01:08.211Z"
   },
   {
    "duration": 3,
    "start_time": "2022-04-20T17:01:53.751Z"
   },
   {
    "duration": 13,
    "start_time": "2022-04-20T17:02:00.450Z"
   },
   {
    "duration": 2604,
    "start_time": "2022-04-20T17:02:57.836Z"
   },
   {
    "duration": 24,
    "start_time": "2022-04-20T17:03:07.257Z"
   },
   {
    "duration": 37,
    "start_time": "2022-04-20T17:07:16.259Z"
   },
   {
    "duration": 44,
    "start_time": "2022-04-20T17:07:24.860Z"
   },
   {
    "duration": 211,
    "start_time": "2022-04-20T17:07:54.596Z"
   },
   {
    "duration": 51,
    "start_time": "2022-04-20T17:08:16.485Z"
   },
   {
    "duration": 641,
    "start_time": "2022-04-20T17:09:03.030Z"
   },
   {
    "duration": 599,
    "start_time": "2022-04-20T17:09:26.756Z"
   },
   {
    "duration": 29,
    "start_time": "2022-04-20T17:09:41.935Z"
   },
   {
    "duration": 34,
    "start_time": "2022-04-20T17:12:29.235Z"
   },
   {
    "duration": 153,
    "start_time": "2022-04-20T17:12:38.180Z"
   },
   {
    "duration": 172,
    "start_time": "2022-04-20T17:12:47.789Z"
   },
   {
    "duration": 63,
    "start_time": "2022-04-20T17:13:30.383Z"
   },
   {
    "duration": 34,
    "start_time": "2022-04-20T17:16:47.496Z"
   },
   {
    "duration": 26,
    "start_time": "2022-04-20T17:17:08.068Z"
   },
   {
    "duration": 36,
    "start_time": "2022-04-20T17:21:16.367Z"
   },
   {
    "duration": 134,
    "start_time": "2022-04-20T17:22:07.520Z"
   },
   {
    "duration": 55,
    "start_time": "2022-04-20T17:22:15.024Z"
   },
   {
    "duration": 129,
    "start_time": "2022-04-20T17:24:10.594Z"
   },
   {
    "duration": 144,
    "start_time": "2022-04-20T17:24:20.755Z"
   },
   {
    "duration": 5,
    "start_time": "2022-04-20T17:37:03.180Z"
   },
   {
    "duration": 7,
    "start_time": "2022-04-20T17:37:07.109Z"
   },
   {
    "duration": 8,
    "start_time": "2022-04-20T17:37:13.919Z"
   },
   {
    "duration": 34,
    "start_time": "2022-04-20T17:39:20.750Z"
   },
   {
    "duration": 2656,
    "start_time": "2022-04-20T17:39:41.972Z"
   },
   {
    "duration": 868,
    "start_time": "2022-04-20T17:39:44.631Z"
   },
   {
    "duration": 27,
    "start_time": "2022-04-20T17:39:45.501Z"
   },
   {
    "duration": 46,
    "start_time": "2022-04-20T17:39:45.530Z"
   },
   {
    "duration": 33,
    "start_time": "2022-04-20T17:39:45.578Z"
   },
   {
    "duration": 45,
    "start_time": "2022-04-20T17:39:45.613Z"
   },
   {
    "duration": 46,
    "start_time": "2022-04-20T17:39:45.659Z"
   },
   {
    "duration": 350,
    "start_time": "2022-04-20T17:39:45.707Z"
   },
   {
    "duration": 216,
    "start_time": "2022-04-20T17:39:46.059Z"
   },
   {
    "duration": 12,
    "start_time": "2022-04-20T17:39:46.277Z"
   },
   {
    "duration": 105,
    "start_time": "2022-04-20T17:39:46.291Z"
   },
   {
    "duration": 15,
    "start_time": "2022-04-20T17:39:46.398Z"
   },
   {
    "duration": 73,
    "start_time": "2022-04-20T17:39:46.415Z"
   },
   {
    "duration": 14,
    "start_time": "2022-04-20T17:39:46.489Z"
   },
   {
    "duration": 42,
    "start_time": "2022-04-20T17:39:46.506Z"
   },
   {
    "duration": 79,
    "start_time": "2022-04-20T17:39:46.550Z"
   },
   {
    "duration": 32,
    "start_time": "2022-04-20T17:39:46.631Z"
   },
   {
    "duration": 52,
    "start_time": "2022-04-20T17:39:46.666Z"
   },
   {
    "duration": 56,
    "start_time": "2022-04-20T17:39:46.720Z"
   },
   {
    "duration": 9,
    "start_time": "2022-04-20T17:49:42.718Z"
   },
   {
    "duration": 10,
    "start_time": "2022-04-20T17:50:00.400Z"
   },
   {
    "duration": 18,
    "start_time": "2022-04-20T17:50:05.926Z"
   },
   {
    "duration": 128,
    "start_time": "2022-04-20T17:56:30.142Z"
   },
   {
    "duration": 15,
    "start_time": "2022-04-20T17:56:39.971Z"
   },
   {
    "duration": 13,
    "start_time": "2022-04-20T17:57:01.285Z"
   },
   {
    "duration": 13,
    "start_time": "2022-04-20T17:57:43.704Z"
   },
   {
    "duration": 15,
    "start_time": "2022-04-20T17:57:55.584Z"
   },
   {
    "duration": 10,
    "start_time": "2022-04-20T17:58:32.286Z"
   },
   {
    "duration": 16,
    "start_time": "2022-04-20T17:58:39.650Z"
   },
   {
    "duration": 13,
    "start_time": "2022-04-20T17:59:17.135Z"
   },
   {
    "duration": 50,
    "start_time": "2022-04-20T18:09:47.266Z"
   },
   {
    "duration": 49,
    "start_time": "2022-04-20T18:09:56.787Z"
   },
   {
    "duration": 26,
    "start_time": "2022-04-20T18:11:19.885Z"
   },
   {
    "duration": 72,
    "start_time": "2022-04-20T18:11:22.590Z"
   },
   {
    "duration": 180,
    "start_time": "2022-04-20T18:12:04.318Z"
   },
   {
    "duration": 46,
    "start_time": "2022-04-20T18:17:22.868Z"
   },
   {
    "duration": 139,
    "start_time": "2022-04-20T18:23:06.411Z"
   },
   {
    "duration": 11,
    "start_time": "2022-04-20T18:23:31.881Z"
   },
   {
    "duration": 17,
    "start_time": "2022-04-20T18:23:37.729Z"
   },
   {
    "duration": 12,
    "start_time": "2022-04-20T18:36:54.191Z"
   },
   {
    "duration": 19,
    "start_time": "2022-04-20T18:36:58.409Z"
   },
   {
    "duration": 14,
    "start_time": "2022-04-20T19:16:01.868Z"
   },
   {
    "duration": 19,
    "start_time": "2022-04-20T19:24:35.511Z"
   },
   {
    "duration": 20,
    "start_time": "2022-04-20T19:25:54.717Z"
   },
   {
    "duration": 33,
    "start_time": "2022-04-20T19:32:20.976Z"
   },
   {
    "duration": 46,
    "start_time": "2022-04-20T19:40:43.425Z"
   },
   {
    "duration": 2533,
    "start_time": "2022-04-20T19:40:57.212Z"
   },
   {
    "duration": 1108,
    "start_time": "2022-04-20T19:40:59.747Z"
   },
   {
    "duration": 37,
    "start_time": "2022-04-20T19:41:00.857Z"
   },
   {
    "duration": 25,
    "start_time": "2022-04-20T19:41:00.898Z"
   },
   {
    "duration": 34,
    "start_time": "2022-04-20T19:41:00.925Z"
   },
   {
    "duration": 32,
    "start_time": "2022-04-20T19:41:00.962Z"
   },
   {
    "duration": 503,
    "start_time": "2022-04-20T19:41:00.996Z"
   },
   {
    "duration": 189,
    "start_time": "2022-04-20T19:41:01.501Z"
   },
   {
    "duration": 16,
    "start_time": "2022-04-20T19:41:01.693Z"
   },
   {
    "duration": 104,
    "start_time": "2022-04-20T19:41:01.712Z"
   },
   {
    "duration": 20,
    "start_time": "2022-04-20T19:41:01.818Z"
   },
   {
    "duration": 95,
    "start_time": "2022-04-20T19:41:01.841Z"
   },
   {
    "duration": 27,
    "start_time": "2022-04-20T19:41:01.938Z"
   },
   {
    "duration": 32,
    "start_time": "2022-04-20T19:41:01.967Z"
   },
   {
    "duration": 88,
    "start_time": "2022-04-20T19:41:02.001Z"
   },
   {
    "duration": 13,
    "start_time": "2022-04-20T19:41:02.091Z"
   },
   {
    "duration": 67,
    "start_time": "2022-04-20T19:41:02.106Z"
   },
   {
    "duration": 32,
    "start_time": "2022-04-20T19:41:02.175Z"
   },
   {
    "duration": 53,
    "start_time": "2022-04-20T19:41:02.209Z"
   },
   {
    "duration": 44,
    "start_time": "2022-04-20T19:41:02.264Z"
   },
   {
    "duration": 27,
    "start_time": "2022-04-20T19:41:02.310Z"
   },
   {
    "duration": 25,
    "start_time": "2022-04-20T19:41:02.339Z"
   },
   {
    "duration": 45,
    "start_time": "2022-04-20T19:41:02.365Z"
   },
   {
    "duration": 75,
    "start_time": "2022-04-20T19:41:33.909Z"
   },
   {
    "duration": 127,
    "start_time": "2022-04-20T19:54:59.882Z"
   },
   {
    "duration": 18,
    "start_time": "2022-04-20T19:55:25.479Z"
   },
   {
    "duration": 17,
    "start_time": "2022-04-20T19:59:58.811Z"
   },
   {
    "duration": 27,
    "start_time": "2022-04-20T20:01:43.680Z"
   },
   {
    "duration": 23,
    "start_time": "2022-04-20T20:02:06.028Z"
   },
   {
    "duration": 99263,
    "start_time": "2022-04-21T12:04:12.335Z"
   },
   {
    "duration": 666,
    "start_time": "2022-04-21T12:05:51.600Z"
   },
   {
    "duration": 0,
    "start_time": "2022-04-21T12:05:52.268Z"
   },
   {
    "duration": 0,
    "start_time": "2022-04-21T12:05:52.269Z"
   },
   {
    "duration": 0,
    "start_time": "2022-04-21T12:05:52.270Z"
   },
   {
    "duration": 0,
    "start_time": "2022-04-21T12:05:52.271Z"
   },
   {
    "duration": 0,
    "start_time": "2022-04-21T12:05:52.273Z"
   },
   {
    "duration": 0,
    "start_time": "2022-04-21T12:05:52.274Z"
   },
   {
    "duration": 0,
    "start_time": "2022-04-21T12:05:52.275Z"
   },
   {
    "duration": 0,
    "start_time": "2022-04-21T12:05:52.276Z"
   },
   {
    "duration": 0,
    "start_time": "2022-04-21T12:05:52.277Z"
   },
   {
    "duration": 0,
    "start_time": "2022-04-21T12:05:52.278Z"
   },
   {
    "duration": 0,
    "start_time": "2022-04-21T12:05:52.279Z"
   },
   {
    "duration": 0,
    "start_time": "2022-04-21T12:05:52.280Z"
   },
   {
    "duration": 0,
    "start_time": "2022-04-21T12:05:52.281Z"
   },
   {
    "duration": 0,
    "start_time": "2022-04-21T12:05:52.282Z"
   },
   {
    "duration": 0,
    "start_time": "2022-04-21T12:05:52.282Z"
   },
   {
    "duration": 0,
    "start_time": "2022-04-21T12:05:52.283Z"
   },
   {
    "duration": 0,
    "start_time": "2022-04-21T12:05:52.284Z"
   },
   {
    "duration": 0,
    "start_time": "2022-04-21T12:05:52.285Z"
   },
   {
    "duration": 0,
    "start_time": "2022-04-21T12:05:52.286Z"
   },
   {
    "duration": 0,
    "start_time": "2022-04-21T12:05:52.287Z"
   },
   {
    "duration": 0,
    "start_time": "2022-04-21T12:05:52.288Z"
   },
   {
    "duration": 99075,
    "start_time": "2022-04-21T12:09:22.038Z"
   },
   {
    "duration": 3241,
    "start_time": "2022-04-21T12:13:49.707Z"
   },
   {
    "duration": 147,
    "start_time": "2022-04-21T12:13:57.078Z"
   },
   {
    "duration": 23,
    "start_time": "2022-04-21T12:19:32.528Z"
   },
   {
    "duration": 9,
    "start_time": "2022-04-21T12:19:34.738Z"
   },
   {
    "duration": 12,
    "start_time": "2022-04-21T12:19:35.851Z"
   },
   {
    "duration": 10,
    "start_time": "2022-04-21T12:19:37.799Z"
   },
   {
    "duration": 45,
    "start_time": "2022-04-21T12:19:39.007Z"
   },
   {
    "duration": 11,
    "start_time": "2022-04-21T12:19:44.607Z"
   },
   {
    "duration": 11,
    "start_time": "2022-04-21T12:22:20.107Z"
   },
   {
    "duration": 45,
    "start_time": "2022-04-21T12:22:21.283Z"
   },
   {
    "duration": 15,
    "start_time": "2022-04-21T12:22:24.169Z"
   },
   {
    "duration": 51,
    "start_time": "2022-04-21T12:22:25.447Z"
   },
   {
    "duration": 14,
    "start_time": "2022-04-21T12:22:27.518Z"
   },
   {
    "duration": 19,
    "start_time": "2022-04-21T12:22:30.852Z"
   },
   {
    "duration": 43,
    "start_time": "2022-04-21T12:22:32.656Z"
   },
   {
    "duration": 11,
    "start_time": "2022-04-21T12:22:35.940Z"
   },
   {
    "duration": 45,
    "start_time": "2022-04-21T12:22:37.057Z"
   },
   {
    "duration": 34,
    "start_time": "2022-04-21T12:22:39.654Z"
   },
   {
    "duration": 44,
    "start_time": "2022-04-23T14:38:38.846Z"
   },
   {
    "duration": 100072,
    "start_time": "2022-04-23T14:39:09.920Z"
   },
   {
    "duration": 755,
    "start_time": "2022-04-23T14:40:49.995Z"
   },
   {
    "duration": 29,
    "start_time": "2022-04-23T14:40:50.752Z"
   },
   {
    "duration": 16,
    "start_time": "2022-04-23T14:40:50.783Z"
   },
   {
    "duration": 13,
    "start_time": "2022-04-23T14:40:50.800Z"
   },
   {
    "duration": 16,
    "start_time": "2022-04-23T14:40:50.815Z"
   },
   {
    "duration": 331,
    "start_time": "2022-04-23T14:40:50.833Z"
   },
   {
    "duration": 143,
    "start_time": "2022-04-23T14:40:51.166Z"
   },
   {
    "duration": 11,
    "start_time": "2022-04-23T14:40:51.311Z"
   },
   {
    "duration": 82,
    "start_time": "2022-04-23T14:40:51.324Z"
   },
   {
    "duration": 14,
    "start_time": "2022-04-23T14:40:51.408Z"
   },
   {
    "duration": 73,
    "start_time": "2022-04-23T14:40:51.424Z"
   },
   {
    "duration": 13,
    "start_time": "2022-04-23T14:40:51.499Z"
   },
   {
    "duration": 19,
    "start_time": "2022-04-23T14:40:51.514Z"
   },
   {
    "duration": 73,
    "start_time": "2022-04-23T14:40:51.535Z"
   },
   {
    "duration": 11,
    "start_time": "2022-04-23T14:40:51.610Z"
   },
   {
    "duration": 70,
    "start_time": "2022-04-23T14:40:51.622Z"
   },
   {
    "duration": 34,
    "start_time": "2022-04-23T14:40:51.694Z"
   },
   {
    "duration": 148,
    "start_time": "2022-04-23T14:40:51.730Z"
   },
   {
    "duration": 0,
    "start_time": "2022-04-23T14:40:51.880Z"
   },
   {
    "duration": 0,
    "start_time": "2022-04-23T14:40:51.881Z"
   },
   {
    "duration": 0,
    "start_time": "2022-04-23T14:40:51.882Z"
   },
   {
    "duration": 0,
    "start_time": "2022-04-23T14:40:51.883Z"
   },
   {
    "duration": 24,
    "start_time": "2022-04-24T14:46:24.425Z"
   },
   {
    "duration": 13,
    "start_time": "2022-04-24T14:46:45.054Z"
   },
   {
    "duration": 17,
    "start_time": "2022-04-24T14:46:50.219Z"
   },
   {
    "duration": 17,
    "start_time": "2022-04-24T14:53:14.652Z"
   },
   {
    "duration": 141,
    "start_time": "2022-04-24T14:53:39.533Z"
   },
   {
    "duration": 56,
    "start_time": "2022-04-24T14:53:44.748Z"
   },
   {
    "duration": 13,
    "start_time": "2022-04-24T14:54:14.244Z"
   },
   {
    "duration": 20,
    "start_time": "2022-04-24T14:54:34.758Z"
   },
   {
    "duration": 30,
    "start_time": "2022-04-24T14:54:45.362Z"
   },
   {
    "duration": 27,
    "start_time": "2022-04-24T14:55:06.802Z"
   },
   {
    "duration": 86,
    "start_time": "2022-04-24T16:17:06.909Z"
   },
   {
    "duration": 80,
    "start_time": "2022-04-24T16:17:16.423Z"
   },
   {
    "duration": 82,
    "start_time": "2022-04-24T16:17:30.902Z"
   },
   {
    "duration": 61,
    "start_time": "2022-04-24T16:17:45.202Z"
   },
   {
    "duration": 65,
    "start_time": "2022-04-24T16:17:52.164Z"
   },
   {
    "duration": 104,
    "start_time": "2022-04-24T16:28:58.158Z"
   },
   {
    "duration": 5093,
    "start_time": "2022-04-24T22:17:49.250Z"
   },
   {
    "duration": 1073,
    "start_time": "2022-04-24T22:17:54.346Z"
   },
   {
    "duration": 31,
    "start_time": "2022-04-24T22:17:55.421Z"
   },
   {
    "duration": 24,
    "start_time": "2022-04-24T22:17:55.455Z"
   },
   {
    "duration": 19,
    "start_time": "2022-04-24T22:17:55.481Z"
   },
   {
    "duration": 14,
    "start_time": "2022-04-24T22:17:55.502Z"
   },
   {
    "duration": 500,
    "start_time": "2022-04-24T22:17:55.551Z"
   },
   {
    "duration": 136,
    "start_time": "2022-04-24T22:17:56.053Z"
   },
   {
    "duration": 66,
    "start_time": "2022-04-24T22:17:56.191Z"
   },
   {
    "duration": 97,
    "start_time": "2022-04-24T22:17:56.262Z"
   },
   {
    "duration": 21,
    "start_time": "2022-04-24T22:17:56.362Z"
   },
   {
    "duration": 106,
    "start_time": "2022-04-24T22:17:56.385Z"
   },
   {
    "duration": 25,
    "start_time": "2022-04-24T22:17:56.493Z"
   },
   {
    "duration": 99,
    "start_time": "2022-04-24T22:17:56.520Z"
   },
   {
    "duration": 32,
    "start_time": "2022-04-24T22:17:56.621Z"
   },
   {
    "duration": 70,
    "start_time": "2022-04-24T22:17:56.655Z"
   },
   {
    "duration": 65,
    "start_time": "2022-04-24T22:17:56.727Z"
   },
   {
    "duration": 18,
    "start_time": "2022-04-24T22:17:56.794Z"
   },
   {
    "duration": 99,
    "start_time": "2022-04-24T22:17:56.814Z"
   },
   {
    "duration": 17,
    "start_time": "2022-04-24T22:17:56.915Z"
   },
   {
    "duration": 38,
    "start_time": "2022-04-24T22:17:56.934Z"
   },
   {
    "duration": 35,
    "start_time": "2022-04-24T22:17:56.974Z"
   },
   {
    "duration": 104104,
    "start_time": "2022-04-25T06:44:07.206Z"
   },
   {
    "duration": 801,
    "start_time": "2022-04-25T06:45:51.313Z"
   },
   {
    "duration": 0,
    "start_time": "2022-04-25T06:45:52.117Z"
   },
   {
    "duration": 0,
    "start_time": "2022-04-25T06:45:52.119Z"
   },
   {
    "duration": 0,
    "start_time": "2022-04-25T06:45:52.120Z"
   },
   {
    "duration": 0,
    "start_time": "2022-04-25T06:45:52.121Z"
   },
   {
    "duration": 0,
    "start_time": "2022-04-25T06:45:52.123Z"
   },
   {
    "duration": 0,
    "start_time": "2022-04-25T06:45:52.124Z"
   },
   {
    "duration": 0,
    "start_time": "2022-04-25T06:45:52.126Z"
   },
   {
    "duration": 0,
    "start_time": "2022-04-25T06:45:52.127Z"
   },
   {
    "duration": 0,
    "start_time": "2022-04-25T06:45:52.148Z"
   },
   {
    "duration": 0,
    "start_time": "2022-04-25T06:45:52.149Z"
   },
   {
    "duration": 0,
    "start_time": "2022-04-25T06:45:52.150Z"
   },
   {
    "duration": 0,
    "start_time": "2022-04-25T06:45:52.151Z"
   },
   {
    "duration": 0,
    "start_time": "2022-04-25T06:45:52.152Z"
   },
   {
    "duration": 0,
    "start_time": "2022-04-25T06:45:52.153Z"
   },
   {
    "duration": 0,
    "start_time": "2022-04-25T06:45:52.154Z"
   },
   {
    "duration": 0,
    "start_time": "2022-04-25T06:45:52.156Z"
   },
   {
    "duration": 0,
    "start_time": "2022-04-25T06:45:52.157Z"
   },
   {
    "duration": 0,
    "start_time": "2022-04-25T06:45:52.158Z"
   },
   {
    "duration": 0,
    "start_time": "2022-04-25T06:45:52.160Z"
   },
   {
    "duration": 0,
    "start_time": "2022-04-25T06:45:52.161Z"
   },
   {
    "duration": 104091,
    "start_time": "2022-04-25T06:47:36.733Z"
   },
   {
    "duration": 122165,
    "start_time": "2022-04-25T06:53:11.575Z"
   },
   {
    "duration": 821,
    "start_time": "2022-04-25T06:55:13.743Z"
   },
   {
    "duration": 25,
    "start_time": "2022-04-25T06:55:14.566Z"
   },
   {
    "duration": 16,
    "start_time": "2022-04-25T06:55:14.593Z"
   },
   {
    "duration": 13,
    "start_time": "2022-04-25T06:55:14.611Z"
   },
   {
    "duration": 33,
    "start_time": "2022-04-25T06:55:14.626Z"
   },
   {
    "duration": 346,
    "start_time": "2022-04-25T06:55:14.672Z"
   },
   {
    "duration": 77,
    "start_time": "2022-04-25T06:55:15.019Z"
   },
   {
    "duration": 58,
    "start_time": "2022-04-25T06:55:15.098Z"
   },
   {
    "duration": 47,
    "start_time": "2022-04-25T06:55:15.160Z"
   },
   {
    "duration": 14,
    "start_time": "2022-04-25T06:55:15.209Z"
   },
   {
    "duration": 86,
    "start_time": "2022-04-25T06:55:15.225Z"
   },
   {
    "duration": 17,
    "start_time": "2022-04-25T06:55:15.313Z"
   },
   {
    "duration": 63,
    "start_time": "2022-04-25T06:55:15.331Z"
   },
   {
    "duration": 10,
    "start_time": "2022-04-25T06:55:15.396Z"
   },
   {
    "duration": 70,
    "start_time": "2022-04-25T06:55:15.408Z"
   },
   {
    "duration": 29,
    "start_time": "2022-04-25T06:55:15.480Z"
   },
   {
    "duration": 12,
    "start_time": "2022-04-25T06:55:15.511Z"
   },
   {
    "duration": 63,
    "start_time": "2022-04-25T06:55:15.524Z"
   },
   {
    "duration": 11,
    "start_time": "2022-04-25T06:55:15.589Z"
   },
   {
    "duration": 14,
    "start_time": "2022-04-25T06:55:15.601Z"
   },
   {
    "duration": 52,
    "start_time": "2022-04-25T06:55:15.617Z"
   }
  ],
  "kernelspec": {
   "display_name": "Python 3 (ipykernel)",
   "language": "python",
   "name": "python3"
  },
  "language_info": {
   "codemirror_mode": {
    "name": "ipython",
    "version": 3
   },
   "file_extension": ".py",
   "mimetype": "text/x-python",
   "name": "python",
   "nbconvert_exporter": "python",
   "pygments_lexer": "ipython3",
   "version": "3.7.10"
  },
  "toc": {
   "base_numbering": 1,
   "nav_menu": {},
   "number_sections": true,
   "sideBar": true,
   "skip_h1_title": true,
   "title_cell": "Table of Contents",
   "title_sidebar": "Contents",
   "toc_cell": false,
   "toc_position": {},
   "toc_section_display": true,
   "toc_window_display": true
  }
 },
 "nbformat": 4,
 "nbformat_minor": 2
}
